{
 "cells": [
  {
   "cell_type": "markdown",
   "metadata": {},
   "source": [
    "# Build the program"
   ]
  },
  {
   "cell_type": "code",
   "execution_count": 62,
   "metadata": {
    "notebookRunGroups": {
     "groupValue": "1"
    }
   },
   "outputs": [
    {
     "name": "stdout",
     "output_type": "stream",
     "text": [
      "Microsoft Windows [Version 10.0.19045.5131]\n",
      "(c) Microsoft Corporation. All rights reserved.\n",
      "\n",
      "(qiskitenv) e:\\cpp>g++ -std=c++17 -Wall  -Wl,-Map=output.map c_program.cpp -o program\n"
     ]
    },
    {
     "name": "stderr",
     "output_type": "stream",
     "text": [
      "c_program.cpp: In function 'int main()':\n",
      "c_program.cpp:12:31: error: call of overloaded 'Max(float, int)' is ambiguous\n",
      "   12 |     float result = Max(8.1f, 6) ;\n",
      "      |                               ^\n",
      "c_program.cpp:4:5: note: candidate: 'int Max(int, int)'\n",
      "    4 | int Max(int x,int y){\n",
      "      |     ^~~\n",
      "c_program.cpp:7:7: note: candidate: 'float Max(float, float)'\n",
      "    7 | float Max(float x, float y){\n",
      "      |       ^~~\n"
     ]
    },
    {
     "name": "stdout",
     "output_type": "stream",
     "text": [
      "\n",
      "(qiskitenv) e:\\cpp>g++ -c c_program.cpp -o object.o\n"
     ]
    },
    {
     "name": "stderr",
     "output_type": "stream",
     "text": [
      "c_program.cpp: In function 'int main()':\n",
      "c_program.cpp:12:31: error: call of overloaded 'Max(float, int)' is ambiguous\n",
      "   12 |     float result = Max(8.1f, 6) ;\n",
      "      |                               ^\n",
      "c_program.cpp:4:5: note: candidate: 'int Max(int, int)'\n",
      "    4 | int Max(int x,int y){\n",
      "      |     ^~~\n",
      "c_program.cpp:7:7: note: candidate: 'float Max(float, float)'\n",
      "    7 | float Max(float x, float y){\n",
      "      |       ^~~\n"
     ]
    },
    {
     "name": "stdout",
     "output_type": "stream",
     "text": [
      "\n",
      "(qiskitenv) e:\\cpp>objdump -x object.o > objectDump\n",
      "\n",
      "(qiskitenv) e:\\cpp>"
     ]
    }
   ],
   "source": [
    "%%cmd \n",
    "g++ -std=c++17 -Wall  -Wl,-Map=output.map c_program.cpp -o program\n",
    "g++ -c c_program.cpp -o object.o\n",
    "objdump -x object.o > objectDump\n"
   ]
  },
  {
   "cell_type": "markdown",
   "metadata": {},
   "source": [
    "# Run the program"
   ]
  },
  {
   "cell_type": "code",
   "execution_count": 63,
   "metadata": {
    "notebookRunGroups": {
     "groupValue": "1"
    }
   },
   "outputs": [
    {
     "name": "stdout",
     "output_type": "stream",
     "text": [
      "Microsoft Windows [Version 10.0.19045.5131]\n",
      "(c) Microsoft Corporation. All rights reserved.\n"
     ]
    },
    {
     "name": "stdout",
     "output_type": "stream",
     "text": [
      "\n",
      "(qiskitenv) e:\\cpp>program\n",
      "This is LibraryA's print function.\n",
      "This is LibraryB's print function.\n",
      "\n",
      "(qiskitenv) e:\\cpp>"
     ]
    }
   ],
   "source": [
    "%%cmd \n",
    "program"
   ]
  },
  {
   "cell_type": "markdown",
   "metadata": {},
   "source": [
    "# Unifrom Initialization "
   ]
  },
  {
   "cell_type": "markdown",
   "metadata": {},
   "source": []
  },
  {
   "cell_type": "markdown",
   "metadata": {},
   "source": [
    "# auto Keyword"
   ]
  },
  {
   "cell_type": "markdown",
   "metadata": {},
   "source": []
  },
  {
   "cell_type": "markdown",
   "metadata": {
    "notebookRunGroups": {
     "groupValue": "1"
    }
   },
   "source": [
    "# Range-based for loop\n",
    "\n",
    "\n",
    "- Does not use index to iterate\n",
    "- End condition is provided by the range\n",
    "- No need to increment or decrement\n",
    "- Lesser chances of errors\n",
    "- No control over iteration\n"
   ]
  },
  {
   "cell_type": "code",
   "execution_count": 11,
   "metadata": {
    "notebookRunGroups": {
     "groupValue": "1"
    }
   },
   "outputs": [
    {
     "name": "stdout",
     "output_type": "stream",
     "text": [
      "Overwriting c_program.cpp\n"
     ]
    }
   ],
   "source": [
    "%%file c_program.cpp\n",
    "\n",
    "#include <iostream>\n",
    "using namespace std;\n",
    "int main()\n",
    "{\n",
    "    \n",
    "    int arr[] = {1, 2, 4, 5, 6};\n",
    "    \n",
    "    // Each element of the array is copied into x\n",
    "    for(auto x : arr)\n",
    "    {\n",
    "        cout << x << endl;\n",
    "        x = 4; // modifying x leads to modifying the copy of this element.\n",
    "    }\n",
    "\n",
    "    cout << \"*************\" << endl;\n",
    "    // a reference X is pointed to each element\n",
    "    for(auto& x : arr)\n",
    "    {\n",
    "        cout << x << endl;\n",
    "        x= 4; // Modifiying x leads to modifying the original array.\n",
    "    }\n",
    "    cout << \"*************\" << endl;\n",
    "    \n",
    "    // So the original array is modified.\n",
    "    for(int i = 0; i < 5 ;i++)\n",
    "    {\n",
    "\n",
    "        cout << arr [i] << endl;\n",
    "    }\n",
    "        cout << \"*************\" << endl;\n",
    "    // We can use initializer list\n",
    "    for(auto& x : {1, 2, 3})\n",
    "    {\n",
    "        cout << x << endl;\n",
    "    }\n",
    "    \n",
    "}\n"
   ]
  },
  {
   "cell_type": "markdown",
   "metadata": {},
   "source": [
    "# Function Overloading\n",
    "\n",
    "- Function will overload if they are have the same name, different paramters (type or number of arugments).\n",
    "- Two or more functions declared with the same name\n",
    "- Arguments should differ in type and/or number\n",
    "- For pointers & reference arguments, qualifiers participate in overload\n",
    "- Return type is ignored\n",
    "- For member functions, qualifiers participate in overload\n",
    "- Different implementations of the same behaviour\n",
    "- The correct implementation is chosen based on the arguments\n",
    "- This is resolved at compile-time\n",
    "   static polymorphism\n",
    "- Convenience for the caller\n"
   ]
  },
  {
   "cell_type": "markdown",
   "metadata": {},
   "source": [
    "### Dirfferent types, Same number of arugments "
   ]
  },
  {
   "cell_type": "code",
   "execution_count": null,
   "metadata": {},
   "outputs": [
    {
     "name": "stdout",
     "output_type": "stream",
     "text": [
      "Overwriting c_program.cpp\n"
     ]
    }
   ],
   "source": [
    "%%file c_program.cpp\n",
    "\n",
    "#include <iostream>\n",
    "using namespace std;\n",
    "\n",
    "int Add(int a, int b) {\n",
    "    return a + b;\n",
    "}\n",
    "double Add(double a, double b) {\n",
    "    return a + b;\n",
    "}\n",
    "\n",
    "int main() {\n",
    "    using namespace std;\n",
    "    int result = Add(3, 5);\n",
    "    cout << result << endl;\n",
    "    auto result_2 = Add(3.1, 6.2); //The compiler here check the arguments and run the add function with double arugments.\n",
    "    cout << result_2 << endl;\n",
    "    return 0;\n",
    "}"
   ]
  },
  {
   "cell_type": "markdown",
   "metadata": {},
   "source": [
    "### Dirfferent number of arugments "
   ]
  },
  {
   "cell_type": "code",
   "execution_count": 15,
   "metadata": {},
   "outputs": [
    {
     "name": "stdout",
     "output_type": "stream",
     "text": [
      "Overwriting c_program.cpp\n"
     ]
    }
   ],
   "source": [
    "%%file c_program.cpp\n",
    "\n",
    "#include <iostream>\n",
    "using namespace std;\n",
    "\n",
    "int Add(int a, int b) {\n",
    "    return a + b;\n",
    "}\n",
    "int Add(int a, int b, int c) {\n",
    "    return a + b + c;\n",
    "}\n",
    "\n",
    "int main() {\n",
    "    using namespace std;\n",
    "    int result = Add(3, 5);\n",
    "    cout << result << endl;\n",
    "    auto result_2 = Add(3, 5, 6); \n",
    "    cout << result_2 << endl;\n",
    "    return 0;\n",
    "}"
   ]
  },
  {
   "cell_type": "markdown",
   "metadata": {},
   "source": [
    "### Const qualifier overloading\n",
    "- The function can overloads if one of them accepts pointer/reference and the other accepts CONST pointer/reference."
   ]
  },
  {
   "cell_type": "code",
   "execution_count": 44,
   "metadata": {},
   "outputs": [
    {
     "name": "stdout",
     "output_type": "stream",
     "text": [
      "Overwriting c_program.cpp\n"
     ]
    }
   ],
   "source": [
    "%%file c_program.cpp\n",
    "\n",
    "#include <iostream>\n",
    "using namespace std;\n",
    "\n",
    "void print(int *x)\n",
    "{\n",
    "    cout<< \"Print 1\" << endl;\n",
    "}\n",
    "\n",
    "void print(const int *x)\n",
    "{\n",
    "    cout<< \"Print 2\" << endl;\n",
    "}\n",
    "\n",
    "int main() {\n",
    "    \n",
    "    int x = 0 ; \n",
    "    print(&x); // Prints 1\n",
    "    \n",
    "    const int y = 0 ;  \n",
    "    print(&y);  // Prints 2\n",
    "    \n",
    "    return 0;\n",
    "}"
   ]
  },
  {
   "cell_type": "markdown",
   "metadata": {},
   "source": [
    "The arguments match both the functions after conversion. First argument can convert to int and second argument can convert to float. This can match both the functions after conversion. Since, both conversions are equally ranked, the compiler cannot choose one over the other.​"
   ]
  },
  {
   "cell_type": "code",
   "execution_count": null,
   "metadata": {},
   "outputs": [
    {
     "name": "stdout",
     "output_type": "stream",
     "text": [
      "Overwriting c_program.cpp\n"
     ]
    }
   ],
   "source": [
    "\n",
    "%%file c_program.cpp\n",
    "#include <iostream>\n",
    "using namespace std;\n",
    "\n",
    "//Compier error\n",
    "int Max(int x,int y){\n",
    "    return x > y ? x : y;\n",
    "}\n",
    "float Max(float x, float y){\n",
    "    return x > y ? x : y ;\n",
    "}\n",
    " \n",
    "int main(){\n",
    "    float result = Max(8.1f, 6) ;\n",
    "    std::cout << result ;\n",
    "    return 0 ;\n",
    "}"
   ]
  },
  {
   "cell_type": "markdown",
   "metadata": {},
   "source": [
    "# C++ Mangling\n",
    "\n",
    "Name mangling in C++ is a mechanism used by the compiler to generate unique names for functions, variables, and other entities in order to support function overloading\n",
    "To avoid mangling (e.g., when linking with C libraries), use extern \"C\", which tells the compiler to use C linkage for the specified symbols:\n"
   ]
  },
  {
   "cell_type": "code",
   "execution_count": null,
   "metadata": {},
   "outputs": [
    {
     "name": "stdout",
     "output_type": "stream",
     "text": [
      "Overwriting c_program.cpp\n"
     ]
    }
   ],
   "source": [
    "%%file c_program.cpp\n",
    "\n",
    "#include <iostream>\n",
    "using namespace std;\n",
    "\n",
    "void print(int *x)  // This function will be given another name.\n",
    "{\n",
    "    cout<< \"Print 1\" << endl;\n",
    "}\n",
    "\n",
    "extern \"C\" void print(const int *x)  //You will find \"Print\" in the obj file because mangling is disabled here\n",
    "{\n",
    "    cout<< \"Print 2\" << endl;\n",
    "}\n",
    "\n",
    "int main() {\n",
    "    \n",
    "    int x = 0 ; \n",
    "    print(&x); // Prints 1\n",
    "    \n",
    "    const int y = 0 ;  \n",
    "    print(&y);  // Prints 2\n",
    "    \n",
    "    return 0;\n",
    "}"
   ]
  },
  {
   "cell_type": "markdown",
   "metadata": {},
   "source": [
    "- Generate Object file\n",
    "- Search for print in the obj file\n",
    "- pass the mangled name to c++flit utility to return the actual name of the function"
   ]
  },
  {
   "cell_type": "code",
   "execution_count": 57,
   "metadata": {},
   "outputs": [
    {
     "name": "stdout",
     "output_type": "stream",
     "text": [
      "Microsoft Windows [Version 10.0.19045.5131]\n",
      "(c) Microsoft Corporation. All rights reserved.\n",
      "\n",
      "(qiskitenv) e:\\cpp>nm object.o | findstr  print\n",
      "00000000000000ff t _GLOBAL__sub_I__Z5printPi\n",
      "0000000000000000 T _Z5printPi\n",
      "0000000000000035 T print\n",
      "\n",
      "(qiskitenv) e:\\cpp>echo _Z5printPi | c++filt\n",
      "print(int*) \n",
      "\n",
      "(qiskitenv) e:\\cpp>"
     ]
    }
   ],
   "source": [
    "%%cmd\n",
    "nm object.o | findstr  print\n",
    "echo _Z5printPi | c++filt"
   ]
  },
  {
   "cell_type": "markdown",
   "metadata": {},
   "source": [
    "# Namespace"
   ]
  },
  {
   "cell_type": "markdown",
   "metadata": {},
   "source": [
    "Why Use Namespaces?\n",
    "- Avoid Name Conflicts: Multiple identifiers can have the same name if they are placed in different namespaces.\n",
    "\n",
    "- Organize Code: Namespaces group related functionalities, making code easier to read and maintain.\n",
    "\n",
    "- Simplify Usage: You can use the using keyword or fully qualify names to access identifiers in a namespace.\n",
    "\n",
    "- Types inside a namespace have a scope\n",
    "- Cannot be accessed outside the namespace\n",
    "* Either open the namespace or the type\n",
    "   - use the global using declarative and open the entire namespace\n",
    "     using namespace std;\n",
    "   - use the using declarative and open a specific type\n",
    "     using std::cout;\n",
    "   - using the full qualified name\n",
    "     std::cout << \"C++\" << std::endl;\n"
   ]
  },
  {
   "cell_type": "code",
   "execution_count": 58,
   "metadata": {},
   "outputs": [
    {
     "name": "stdout",
     "output_type": "stream",
     "text": [
      "Overwriting c_program.cpp\n"
     ]
    }
   ],
   "source": [
    "%%file c_program.cpp\n",
    "#include <iostream>\n",
    "\n",
    "namespace LibraryA {\n",
    "    void print() {\n",
    "        std::cout << \"This is LibraryA's print function.\" << std::endl;\n",
    "    }\n",
    "}\n",
    "\n",
    "namespace LibraryB {\n",
    "    void print() {\n",
    "        std::cout << \"This is LibraryB's print function.\" << std::endl;\n",
    "    }\n",
    "}\n",
    "\n",
    "int main() {\n",
    "    // Explicitly specify the namespace\n",
    "    LibraryA::print();\n",
    "    LibraryB::print();\n",
    "\n",
    "    return 0;\n",
    "}"
   ]
  },
  {
   "cell_type": "markdown",
   "metadata": {},
   "source": []
  },
  {
   "cell_type": "markdown",
   "metadata": {},
   "source": []
  },
  {
   "cell_type": "markdown",
   "metadata": {},
   "source": []
  },
  {
   "cell_type": "markdown",
   "metadata": {},
   "source": []
  },
  {
   "cell_type": "markdown",
   "metadata": {},
   "source": []
  },
  {
   "cell_type": "markdown",
   "metadata": {},
   "source": []
  },
  {
   "cell_type": "markdown",
   "metadata": {},
   "source": []
  },
  {
   "cell_type": "markdown",
   "metadata": {},
   "source": []
  },
  {
   "cell_type": "markdown",
   "metadata": {},
   "source": []
  },
  {
   "cell_type": "markdown",
   "metadata": {},
   "source": []
  }
 ],
 "metadata": {
  "kernelspec": {
   "display_name": "qiskitenv",
   "language": "python",
   "name": "python3"
  },
  "language_info": {
   "codemirror_mode": {
    "name": "ipython",
    "version": 3
   },
   "file_extension": ".py",
   "mimetype": "text/x-python",
   "name": "python",
   "nbconvert_exporter": "python",
   "pygments_lexer": "ipython3",
   "version": "3.11.10"
  }
 },
 "nbformat": 4,
 "nbformat_minor": 2
}
