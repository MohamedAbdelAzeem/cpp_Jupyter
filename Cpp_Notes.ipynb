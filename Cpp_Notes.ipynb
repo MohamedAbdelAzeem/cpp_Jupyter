{
 "cells": [
  {
   "cell_type": "markdown",
   "metadata": {},
   "source": [
    "# Build the program"
   ]
  },
  {
   "cell_type": "code",
   "execution_count": 17,
   "metadata": {
    "notebookRunGroups": {
     "groupValue": "1"
    }
   },
   "outputs": [
    {
     "name": "stdout",
     "output_type": "stream",
     "text": [
      "Microsoft Windows [Version 10.0.19045.5131]\n",
      "(c) Microsoft Corporation. All rights reserved.\n",
      "\n",
      "(qiskitenv) e:\\cpp\\git\\cpp_Jupyter>g++ -std=c++17 -Wall  -Wl,-Map=output.map c_program.cpp -o program\n"
     ]
    },
    {
     "name": "stdout",
     "output_type": "stream",
     "text": [
      "\n",
      "(qiskitenv) e:\\cpp\\git\\cpp_Jupyter>g++ -c c_program.cpp -o object.o\n",
      "\n",
      "(qiskitenv) e:\\cpp\\git\\cpp_Jupyter>objdump -x object.o > objectDump\n",
      "\n",
      "(qiskitenv) e:\\cpp\\git\\cpp_Jupyter>"
     ]
    }
   ],
   "source": [
    "%%cmd \n",
    "g++ -std=c++17 -Wall  -Wl,-Map=output.map c_program.cpp -o program\n",
    "g++ -c c_program.cpp -o object.o\n",
    "objdump -x object.o > objectDump  \n"
   ]
  },
  {
   "cell_type": "markdown",
   "metadata": {},
   "source": [
    "# Run the program"
   ]
  },
  {
   "cell_type": "code",
   "execution_count": 18,
   "metadata": {
    "notebookRunGroups": {
     "groupValue": "1"
    }
   },
   "outputs": [
    {
     "name": "stdout",
     "output_type": "stream",
     "text": [
      "Microsoft Windows [Version 10.0.19045.5131]\n",
      "(c) Microsoft Corporation. All rights reserved.\n",
      "\n"
     ]
    },
    {
     "name": "stdout",
     "output_type": "stream",
     "text": [
      "(qiskitenv) e:\\cpp\\git\\cpp_Jupyter>program\n",
      "Value: 10\n",
      "FOO\n",
      "\n",
      "(qiskitenv) e:\\cpp\\git\\cpp_Jupyter>"
     ]
    }
   ],
   "source": [
    "%%cmd \n",
    "program"
   ]
  },
  {
   "cell_type": "markdown",
   "metadata": {},
   "source": [
    "# Unifrom Initialization "
   ]
  },
  {
   "cell_type": "markdown",
   "metadata": {},
   "source": []
  },
  {
   "cell_type": "markdown",
   "metadata": {},
   "source": [
    "# auto Keyword"
   ]
  },
  {
   "cell_type": "markdown",
   "metadata": {},
   "source": []
  },
  {
   "cell_type": "markdown",
   "metadata": {
    "notebookRunGroups": {
     "groupValue": "1"
    }
   },
   "source": [
    "# Range-based for loop\n",
    "\n",
    "\n",
    "- Does not use index to iterate\n",
    "- End condition is provided by the range\n",
    "- No need to increment or decrement\n",
    "- Lesser chances of errors\n",
    "- No control over iteration\n"
   ]
  },
  {
   "cell_type": "code",
   "execution_count": 11,
   "metadata": {
    "notebookRunGroups": {
     "groupValue": "1"
    }
   },
   "outputs": [
    {
     "name": "stdout",
     "output_type": "stream",
     "text": [
      "Overwriting c_program.cpp\n"
     ]
    }
   ],
   "source": [
    "%%file c_program.cpp\n",
    "\n",
    "#include <iostream>\n",
    "using namespace std;\n",
    "int main()\n",
    "{\n",
    "    \n",
    "    int arr[] = {1, 2, 4, 5, 6};\n",
    "    \n",
    "    // Each element of the array is copied into x\n",
    "    for(auto x : arr)\n",
    "    {\n",
    "        cout << x << endl;\n",
    "        x = 4; // modifying x leads to modifying the copy of this element.\n",
    "    }\n",
    "\n",
    "    cout << \"*************\" << endl;\n",
    "    // a reference X is pointed to each element\n",
    "    for(auto& x : arr)\n",
    "    {\n",
    "        cout << x << endl;\n",
    "        x= 4; // Modifiying x leads to modifying the original array.\n",
    "    }\n",
    "    cout << \"*************\" << endl;\n",
    "    \n",
    "    // So the original array is modified.\n",
    "    for(int i = 0; i < 5 ;i++)\n",
    "    {\n",
    "\n",
    "        cout << arr [i] << endl;\n",
    "    }\n",
    "        cout << \"*************\" << endl;\n",
    "    // We can use initializer list\n",
    "    for(auto& x : {1, 2, 3})\n",
    "    {\n",
    "        cout << x << endl;\n",
    "    }\n",
    "    \n",
    "}\n"
   ]
  },
  {
   "cell_type": "markdown",
   "metadata": {},
   "source": [
    "# Function Overloading\n",
    "\n"
   ]
  },
  {
   "cell_type": "markdown",
   "metadata": {},
   "source": [
    "- Function will overload if they are have the same name, different paramters (type or number of arugments).\n",
    "- Two or more functions declared with the same name\n",
    "- Arguments should differ in type and/or number\n",
    "- For pointers & reference arguments, qualifiers participate in overload\n",
    "- Return type is ignored\n",
    "- For member functions, qualifiers participate in overload\n",
    "- Different implementations of the same behaviour\n",
    "- The correct implementation is chosen based on the arguments\n",
    "- This is resolved at compile-time\n",
    "   static polymorphism\n",
    "- Convenience for the caller\n"
   ]
  },
  {
   "cell_type": "markdown",
   "metadata": {},
   "source": [
    "### Dirfferent types, Same number of arugments "
   ]
  },
  {
   "cell_type": "code",
   "execution_count": null,
   "metadata": {},
   "outputs": [
    {
     "name": "stdout",
     "output_type": "stream",
     "text": [
      "Overwriting c_program.cpp\n"
     ]
    }
   ],
   "source": [
    "%%file c_program.cpp\n",
    "\n",
    "#include <iostream>\n",
    "using namespace std;\n",
    "\n",
    "int Add(int a, int b) {\n",
    "    return a + b;\n",
    "}\n",
    "double Add(double a, double b) {\n",
    "    return a + b;\n",
    "}\n",
    "\n",
    "int main() {\n",
    "    using namespace std;\n",
    "    int result = Add(3, 5);\n",
    "    cout << result << endl;\n",
    "    auto result_2 = Add(3.1, 6.2); //The compiler here check the arguments and run the add function with double arugments.\n",
    "    cout << result_2 << endl;\n",
    "    return 0;\n",
    "}"
   ]
  },
  {
   "cell_type": "markdown",
   "metadata": {},
   "source": [
    "### Dirfferent number of arugments "
   ]
  },
  {
   "cell_type": "code",
   "execution_count": 15,
   "metadata": {},
   "outputs": [
    {
     "name": "stdout",
     "output_type": "stream",
     "text": [
      "Overwriting c_program.cpp\n"
     ]
    }
   ],
   "source": [
    "%%file c_program.cpp\n",
    "\n",
    "#include <iostream>\n",
    "using namespace std;\n",
    "\n",
    "int Add(int a, int b) {\n",
    "    return a + b;\n",
    "}\n",
    "int Add(int a, int b, int c) {\n",
    "    return a + b + c;\n",
    "}\n",
    "\n",
    "int main() {\n",
    "    using namespace std;\n",
    "    int result = Add(3, 5);\n",
    "    cout << result << endl;\n",
    "    auto result_2 = Add(3, 5, 6); \n",
    "    cout << result_2 << endl;\n",
    "    return 0;\n",
    "}"
   ]
  },
  {
   "cell_type": "markdown",
   "metadata": {},
   "source": [
    "### Const qualifier overloading\n",
    "- The function can overloads if one of them accepts pointer/reference and the other accepts CONST pointer/reference."
   ]
  },
  {
   "cell_type": "code",
   "execution_count": 44,
   "metadata": {},
   "outputs": [
    {
     "name": "stdout",
     "output_type": "stream",
     "text": [
      "Overwriting c_program.cpp\n"
     ]
    }
   ],
   "source": [
    "%%file c_program.cpp\n",
    "\n",
    "#include <iostream>\n",
    "using namespace std;\n",
    "\n",
    "void print(int *x)\n",
    "{\n",
    "    cout<< \"Print 1\" << endl;\n",
    "}\n",
    "\n",
    "void print(const int *x)\n",
    "{\n",
    "    cout<< \"Print 2\" << endl;\n",
    "}\n",
    "\n",
    "int main() {\n",
    "    \n",
    "    int x = 0 ; \n",
    "    print(&x); // Prints 1\n",
    "    \n",
    "    const int y = 0 ;  \n",
    "    print(&y);  // Prints 2\n",
    "    \n",
    "    return 0;\n",
    "}"
   ]
  },
  {
   "cell_type": "markdown",
   "metadata": {},
   "source": [
    "The arguments match both the functions after conversion. First argument can convert to int and second argument can convert to float. This can match both the functions after conversion. Since, both conversions are equally ranked, the compiler cannot choose one over the other.​"
   ]
  },
  {
   "cell_type": "code",
   "execution_count": null,
   "metadata": {},
   "outputs": [
    {
     "name": "stdout",
     "output_type": "stream",
     "text": [
      "Overwriting c_program.cpp\n"
     ]
    }
   ],
   "source": [
    "\n",
    "%%file c_program.cpp\n",
    "#include <iostream>\n",
    "using namespace std;\n",
    "\n",
    "//Compier error\n",
    "int Max(int x,int y){\n",
    "    return x > y ? x : y;\n",
    "}\n",
    "float Max(float x, float y){\n",
    "    return x > y ? x : y ;\n",
    "}\n",
    " \n",
    "int main(){\n",
    "    float result = Max(8.1f, 6) ;\n",
    "    std::cout << result ;\n",
    "    return 0 ;\n",
    "}"
   ]
  },
  {
   "cell_type": "markdown",
   "metadata": {},
   "source": [
    "# C++ Mangling\n",
    "\n",
    "Name mangling in C++ is a mechanism used by the compiler to generate unique names for functions, variables, and other entities in order to support function overloading\n",
    "To avoid mangling (e.g., when linking with C libraries), use extern \"C\", which tells the compiler to use C linkage for the specified symbols:\n"
   ]
  },
  {
   "cell_type": "code",
   "execution_count": null,
   "metadata": {},
   "outputs": [
    {
     "name": "stdout",
     "output_type": "stream",
     "text": [
      "Overwriting c_program.cpp\n"
     ]
    }
   ],
   "source": [
    "%%file c_program.cpp\n",
    "\n",
    "#include <iostream>\n",
    "using namespace std;\n",
    "\n",
    "void print(int *x)  // This function will be given another name.\n",
    "{\n",
    "    cout<< \"Print 1\" << endl;\n",
    "}\n",
    "\n",
    "extern \"C\" void print(const int *x)  //You will find \"Print\" in the obj file because mangling is disabled here\n",
    "{\n",
    "    cout<< \"Print 2\" << endl;\n",
    "}\n",
    "\n",
    "int main() {\n",
    "    \n",
    "    int x = 0 ; \n",
    "    print(&x); // Prints 1\n",
    "    \n",
    "    const int y = 0 ;  \n",
    "    print(&y);  // Prints 2\n",
    "    \n",
    "    return 0;\n",
    "}"
   ]
  },
  {
   "cell_type": "markdown",
   "metadata": {},
   "source": [
    "- Generate Object file\n",
    "- Search for print in the obj file\n",
    "- pass the mangled name to c++flit utility to return the actual name of the function"
   ]
  },
  {
   "cell_type": "code",
   "execution_count": 57,
   "metadata": {},
   "outputs": [
    {
     "name": "stdout",
     "output_type": "stream",
     "text": [
      "Microsoft Windows [Version 10.0.19045.5131]\n",
      "(c) Microsoft Corporation. All rights reserved.\n",
      "\n",
      "(qiskitenv) e:\\cpp>nm object.o | findstr  print\n",
      "00000000000000ff t _GLOBAL__sub_I__Z5printPi\n",
      "0000000000000000 T _Z5printPi\n",
      "0000000000000035 T print\n",
      "\n",
      "(qiskitenv) e:\\cpp>echo _Z5printPi | c++filt\n",
      "print(int*) \n",
      "\n",
      "(qiskitenv) e:\\cpp>"
     ]
    }
   ],
   "source": [
    "%%cmd\n",
    "nm object.o | findstr  print\n",
    "echo _Z5printPi | c++filt"
   ]
  },
  {
   "cell_type": "markdown",
   "metadata": {},
   "source": [
    "# Namespace"
   ]
  },
  {
   "cell_type": "markdown",
   "metadata": {},
   "source": [
    "Why Use Namespaces?\n",
    "- Avoid Name Conflicts: Multiple identifiers can have the same name if they are placed in different namespaces.\n",
    "\n",
    "- Organize Code: Namespaces group related functionalities, making code easier to read and maintain.\n",
    "\n",
    "- Simplify Usage: You can use the using keyword or fully qualify names to access identifiers in a namespace.\n",
    "\n",
    "- Types inside a namespace have a scope\n",
    "- Cannot be accessed outside the namespace\n",
    "* Either open the namespace or the type\n",
    "   - use the global using declarative and open the entire namespace\n",
    "     using namespace std;\n",
    "   - use the using declarative and open a specific type\n",
    "     using std::cout;\n",
    "   - using the full qualified name\n",
    "     std::cout << \"C++\" << std::endl;\n"
   ]
  },
  {
   "cell_type": "code",
   "execution_count": 1,
   "metadata": {},
   "outputs": [
    {
     "name": "stdout",
     "output_type": "stream",
     "text": [
      "Overwriting c_program.cpp\n"
     ]
    }
   ],
   "source": [
    "%%file c_program.cpp\n",
    "#include <iostream>\n",
    "\n",
    "namespace LibraryA {\n",
    "    void print() {\n",
    "        std::cout << \"This is LibraryA's print function.\" << std::endl;\n",
    "    }\n",
    "}\n",
    "\n",
    "namespace LibraryB {\n",
    "    void print() {\n",
    "        std::cout << \"This is LibraryB's print function.\" << std::endl;\n",
    "    }\n",
    "}\n",
    "\n",
    "int main() {\n",
    "    // Explicitly specify the namespace\n",
    "    LibraryA::print();\n",
    "    LibraryB::print();\n",
    "\n",
    "    return 0;\n",
    "}"
   ]
  },
  {
   "cell_type": "markdown",
   "metadata": {},
   "source": [
    "# Object oriented Programming "
   ]
  },
  {
   "cell_type": "markdown",
   "metadata": {},
   "source": [
    "\n",
    "## Class Access modifiers"
   ]
  },
  {
   "cell_type": "markdown",
   "metadata": {},
   "source": [
    "| Access modifier  | Same class  | Derived class  | outside class  |\n",
    "|------------------|-------------|----------------|----------------|\n",
    "| public           | Yes         | Yes            | Yes            |\n",
    "| private          | Yes         | NO             | No (except by friend classes and functions.)          |\n",
    "| protected        | Yes         | Yes            | No             |"
   ]
  },
  {
   "cell_type": "markdown",
   "metadata": {},
   "source": [
    "- Classes and structs are the same except the default accses: \n",
    "- Class default is private,\n",
    "- Structs default is public"
   ]
  },
  {
   "cell_type": "markdown",
   "metadata": {},
   "source": [
    "## Constructors"
   ]
  },
  {
   "cell_type": "markdown",
   "metadata": {},
   "source": [
    "### Default construcotr"
   ]
  },
  {
   "cell_type": "markdown",
   "metadata": {},
   "source": [
    "- Has no arguments \n",
    "- Car c; // Invokes default constructor \n",
    "- Automatically synthesized by the compiler."
   ]
  },
  {
   "cell_type": "code",
   "execution_count": null,
   "metadata": {},
   "outputs": [
    {
     "name": "stdout",
     "output_type": "stream",
     "text": [
      "Overwriting c_program.cpp\n"
     ]
    }
   ],
   "source": [
    "%%file c_program.cpp\n",
    "\n",
    "#include <iostream>\n",
    "using namespace std;\n",
    "\n",
    "class car \n",
    "{\n",
    "private:\n",
    "    float fuel;\n",
    "    float speed; \n",
    "    int passengers;\n",
    "        \n",
    "public:\n",
    "    car()\n",
    "    {\n",
    "        fuel = 5;\n",
    "        speed = 0;\n",
    "        passengers = 0;\n",
    "        cout << \"Default Car constructor\" << endl;\n",
    "    }\n",
    "};\n",
    "\n",
    "int main() {\n",
    "    car c; // Car constructor will be invoked here\n",
    "    \n",
    "    return 0; // Destructor will be invoked here\n",
    "}"
   ]
  },
  {
   "cell_type": "markdown",
   "metadata": {},
   "source": [
    "### Parameterized constructor"
   ]
  },
  {
   "cell_type": "markdown",
   "metadata": {},
   "source": [
    "- Accespts one or more arguments.\n",
    "- Used to initialize the object with uesr defined values.\n",
    "- blocks auto generation of default constructor."
   ]
  },
  {
   "cell_type": "code",
   "execution_count": null,
   "metadata": {},
   "outputs": [
    {
     "name": "stdout",
     "output_type": "stream",
     "text": [
      "Overwriting c_program.cpp\n"
     ]
    }
   ],
   "source": [
    "%%file c_program.cpp\n",
    "\n",
    "#include <iostream>\n",
    "using namespace std;\n",
    "\n",
    "class car \n",
    "{\n",
    "private:\n",
    "    float fuel;\n",
    "    float speed; \n",
    "    int passengers;\n",
    "        \n",
    "public:\n",
    "    car(float amount)\n",
    "    {\n",
    "        fuel = amount;\n",
    "        speed = 0;\n",
    "        passengers = 0;\n",
    "        cout << \"Parameterized Car constructor\" << endl;\n",
    "    }\n",
    "};\n",
    "\n",
    "int main() {\n",
    "    car c(50); // Car constructor will be invoked here\n",
    "    \n",
    "    return 0; // Destructor will be invoked here\n",
    "}"
   ]
  },
  {
   "cell_type": "markdown",
   "metadata": {},
   "source": [
    "### Copy constructor"
   ]
  },
  {
   "cell_type": "markdown",
   "metadata": {},
   "source": [
    "- If we have an object of a class and we want to create its copy in a new declared object of the same class"
   ]
  },
  {
   "cell_type": "code",
   "execution_count": null,
   "metadata": {},
   "outputs": [
    {
     "name": "stdout",
     "output_type": "stream",
     "text": [
      "Overwriting c_program.cpp\n"
     ]
    }
   ],
   "source": [
    "%%file c_program.cpp\n",
    "\n",
    "#include <iostream>\n",
    "using namespace std;\n",
    "\n",
    "class car \n",
    "{\n",
    "private:\n",
    "    float fuel;\n",
    "    float speed; \n",
    "    int passengers;\n",
    "        \n",
    "public:\n",
    "    car()\n",
    "    {\n",
    "        fuel = 10;\n",
    "        speed = 0;\n",
    "        passengers = 0;\n",
    "        cout << \"Default Car constructor\" << endl;S\n",
    "    }\n",
    "    car(const car& obj)\n",
    "    {\n",
    "        fuel = obj.fuel;\n",
    "        speed = obj.speed ;\n",
    "        passengers = obj.passengers;\n",
    "        cout << \"Copying Car Object\"<< endl;\n",
    "    }\n",
    "};\n",
    "\n",
    "int main() {\n",
    "    car c; // Car constructor will be invoked here\n",
    "    \n",
    "    car c2(c); // creating copy of the c\n",
    "    \n",
    "    return 0; // Destructor will be invoked here\n",
    "}"
   ]
  },
  {
   "cell_type": "markdown",
   "metadata": {},
   "source": [
    "### Constructor Initialization list \n",
    "- Dosen't matter the order of the initialization."
   ]
  },
  {
   "cell_type": "code",
   "execution_count": null,
   "metadata": {},
   "outputs": [
    {
     "name": "stdout",
     "output_type": "stream",
     "text": [
      "Overwriting c_program.cpp\n"
     ]
    }
   ],
   "source": [
    "%%file c_program.cpp\n",
    "\n",
    "#include <iostream>\n",
    "using namespace std;\n",
    "\n",
    "class MyClass {\n",
    "private:\n",
    "    int x;\n",
    "    int y;\n",
    "\n",
    "public:\n",
    "    MyClass(int a, int b) : x(a), y(b) {\n",
    "        cout << \"Constructor with initializer list called\" << endl;\n",
    "        cout << x << endl; // x Is inialized with a \n",
    "    }\n",
    "\n",
    "    void print() {\n",
    "        cout << \"x: \" << x << \", y: \" << y << endl;\n",
    "    }\n",
    "};\n",
    "\n",
    "int main() {\n",
    "    MyClass obj(10, 20);\n",
    "    obj.print();\n",
    "    return 0;\n",
    "}"
   ]
  },
  {
   "cell_type": "markdown",
   "metadata": {},
   "source": [
    "### Delegating Constructor"
   ]
  },
  {
   "cell_type": "markdown",
   "metadata": {},
   "source": [
    "C++11 introduced delegating constructors, allowing one constructor to call another constructor within the same class. This helps to avoid code duplication."
   ]
  },
  {
   "cell_type": "code",
   "execution_count": null,
   "metadata": {},
   "outputs": [
    {
     "name": "stdout",
     "output_type": "stream",
     "text": [
      "Overwriting c_program.cpp\n"
     ]
    }
   ],
   "source": [
    "%%file c_program.cpp\n",
    "#include <iostream>\n",
    "\n",
    "using namespace std;\n",
    "\n",
    "class MyClass {\n",
    "private:\n",
    "    int a, b;\n",
    "public:\n",
    "    // Delegating constructor\n",
    "    // Calling the parameterized constructor inside first\n",
    "    MyClass() : MyClass(0, 0) {\n",
    "        cout << \"Default constructor called\" << endl;\n",
    "    }\n",
    "\n",
    "    MyClass(int a, int b) : a(a), b(b) {\n",
    "        cout << \"Parameterized constructor called with a: \" << a << \", b: \" << b << endl;\n",
    "    }\n",
    "\n",
    "    void display() const {\n",
    "        cout << \"a: \" << a << \", b: \" << b << endl;\n",
    "    }\n",
    "};\n",
    "\n",
    "int main() {\n",
    "    MyClass obj1;\n",
    "    MyClass obj2(10, 20);\n",
    "    obj1.display();\n",
    "    obj2.display();\n",
    "    return 0;\n",
    "}"
   ]
  },
  {
   "cell_type": "markdown",
   "metadata": {},
   "source": [
    "### Exlplicit constructor."
   ]
  },
  {
   "cell_type": "markdown",
   "metadata": {},
   "source": [
    "The explicit keyword prevents implicit conversions, which can lead to unexpected behavior."
   ]
  },
  {
   "cell_type": "code",
   "execution_count": null,
   "metadata": {},
   "outputs": [],
   "source": [
    "%%file c_program.cpp\n",
    "#include <iostream>\n",
    "\n",
    "using namespace std;\n",
    "\n",
    "class MyClass {\n",
    "private:\n",
    "    int value;\n",
    "public:\n",
    "    // Explicit constructor\n",
    "    explicit MyClass(int value) : value(value) {\n",
    "        cout << \"Explicit constructor called with value: \" << value << endl;\n",
    "    }\n",
    "\n",
    "    void display() const {\n",
    "        cout << \"Value: \" << value << endl;\n",
    "    }\n",
    "};\n",
    "\n",
    "void process(const MyClass& obj) {\n",
    "    obj.display();\n",
    "}\n",
    "\n",
    "int main() {\n",
    "    MyClass obj(42);\n",
    "    process(obj);\n",
    "    // process(42); // Error: No implicit conversion allowed\n",
    "    return 0;\n",
    "}"
   ]
  },
  {
   "cell_type": "markdown",
   "metadata": {},
   "source": [
    "### Constructor Inheritence. "
   ]
  },
  {
   "cell_type": "markdown",
   "metadata": {},
   "source": [
    "C++11 introduced constructor inheritance, allowing derived classes to inherit constructors from base classes."
   ]
  },
  {
   "cell_type": "code",
   "execution_count": 1,
   "metadata": {},
   "outputs": [
    {
     "name": "stdout",
     "output_type": "stream",
     "text": [
      "Overwriting c_program.cpp\n"
     ]
    }
   ],
   "source": [
    "%%file c_program.cpp\n",
    "#include <iostream>\n",
    "\n",
    "using namespace std;\n",
    "\n",
    "class Base {\n",
    "public:\n",
    "    Base(int x) {\n",
    "        cout << \"Base constructor called with x: \" << x << endl;\n",
    "    }\n",
    "};\n",
    "\n",
    "class Derived : public Base {\n",
    "public:\n",
    "    using Base::Base; // Inherit constructor (Base constructor will be invoked here)\n",
    "\n",
    "    Derived(int x, int y) : Base(x) { // Calls Base(x) in the initialization list \n",
    "        cout << \"Derived constructor called with y: \" << y << endl;\n",
    "    }\n",
    "};\n",
    "\n",
    "int main() {\n",
    "    Derived d1(10); // Calls Base(int)\n",
    "    Derived d2(20, 30); // Calls Derived(int, int)\n",
    "    return 0;\n",
    "}"
   ]
  },
  {
   "cell_type": "markdown",
   "metadata": {},
   "source": [
    "### Preventing copying contructor."
   ]
  },
  {
   "cell_type": "markdown",
   "metadata": {},
   "source": [
    "Use the = delete syntax to prevent copying of objects."
   ]
  },
  {
   "cell_type": "code",
   "execution_count": null,
   "metadata": {},
   "outputs": [
    {
     "name": "stdout",
     "output_type": "stream",
     "text": [
      "Overwriting c_program.cpp\n"
     ]
    }
   ],
   "source": [
    "%%file c_program.cpp\n",
    "#include <iostream>\n",
    "using namespace std;\n",
    "\n",
    "class MyClass {\n",
    "public:\n",
    "    MyClass() = default;\n",
    "    MyClass(const MyClass&) = delete; // Delete copy constructor   //MyClass obj2 = obj1; // Error: Copy constructor is deleted\n",
    "    MyClass& operator=(const MyClass&) = delete; // Delete copy assignment operator  //obj2 = obj1; // Error: Copy assignment operator is deleted\n",
    "};\n",
    "\n",
    "int main() {\n",
    "    MyClass obj1;\n",
    "   // MyClass obj2 = obj1; // Error: use of deleted function\n",
    "    return 0;\n",
    "}"
   ]
  },
  {
   "cell_type": "markdown",
   "metadata": {},
   "source": [
    "## Destructor"
   ]
  },
  {
   "cell_type": "markdown",
   "metadata": {},
   "source": [
    "- It is a Function that is invoked automatically when an object is destroyed.\n",
    "- Used for releasing resouces that may have been allocated in the constructor.\n",
    "- Cannot be overloaded \n",
    "- No arguments."
   ]
  },
  {
   "cell_type": "markdown",
   "metadata": {},
   "source": [
    "## \"this\" Pointer"
   ]
  },
  {
   "cell_type": "markdown",
   "metadata": {},
   "source": [
    "\n",
    "- A hidden paramter (object address) passed to the function\n",
    "- Points to the object that invoked the member function.\n",
    "- Provided as a keyword that is meaningful only in member function.\n",
    "- can be used to access members inside the member functions\n",
    "- Helps to differentiate between class member and function argumment if they have the same name."
   ]
  },
  {
   "cell_type": "code",
   "execution_count": 16,
   "metadata": {},
   "outputs": [
    {
     "name": "stdout",
     "output_type": "stream",
     "text": [
      "Overwriting c_program.cpp\n"
     ]
    }
   ],
   "source": [
    "%%file c_program.cpp\n",
    "\n",
    "#include <iostream>\n",
    "using namespace std;\n",
    "\n",
    "// Class that uses this pointer\n",
    "class car{\n",
    "  public:\n",
    "    int a;\n",
    "    car(int a) {\n",
    "\n",
    "        // Assigning a of this object to\n",
    "        // function argument a\n",
    "        this->a = a;\n",
    "    }\n",
    "    \n",
    "    void foo(const car& obj)\n",
    "    {\n",
    "        cout << \"FOO\" << endl;\n",
    "        \n",
    "    }\n",
    "    void display() {\n",
    "\n",
    "        // Accessing a of this object\n",
    "        cout << \"Value: \" << this->a << endl;\n",
    "        \n",
    "        // We can use \"this\" to pass the object to another member function that takes an object argument\n",
    "        //this is a pointer we need to dereference it.\n",
    "        foo(*this);\n",
    "    }\n",
    "};\n",
    "\n",
    "int main() {\n",
    "\n",
    "    // Checking if this works for the object\n",
    "    car o(10);\n",
    "    o.display();\n",
    "\n",
    "    return 0;\n",
    "}"
   ]
  },
  {
   "cell_type": "code",
   "execution_count": null,
   "metadata": {},
   "outputs": [
    {
     "name": "stdout",
     "output_type": "stream",
     "text": [
      "Overwriting c_program.cpp\n"
     ]
    }
   ],
   "source": []
  },
  {
   "cell_type": "markdown",
   "metadata": {},
   "source": [
    "- Abstraction focuses on important & necessary details\n",
    "- Unwanted features are left out e.g. name of a person without other details (age, weight, etc)\n",
    "- Helps focus on important characteristics\n",
    "- Used to represent real-life objects in software, but without the associated complexity\n",
    "- Represented through a class, struct, interface, union or enum\n"
   ]
  },
  {
   "cell_type": "markdown",
   "metadata": {},
   "source": []
  },
  {
   "cell_type": "markdown",
   "metadata": {},
   "source": []
  },
  {
   "cell_type": "markdown",
   "metadata": {},
   "source": []
  },
  {
   "cell_type": "markdown",
   "metadata": {},
   "source": []
  },
  {
   "cell_type": "markdown",
   "metadata": {},
   "source": []
  },
  {
   "cell_type": "markdown",
   "metadata": {},
   "source": []
  },
  {
   "cell_type": "markdown",
   "metadata": {},
   "source": []
  },
  {
   "cell_type": "markdown",
   "metadata": {},
   "source": []
  },
  {
   "cell_type": "markdown",
   "metadata": {},
   "source": []
  },
  {
   "cell_type": "code",
   "execution_count": 63,
   "metadata": {},
   "outputs": [
    {
     "name": "stdout",
     "output_type": "stream",
     "text": [
      "Overwriting c_program.cpp\n"
     ]
    }
   ],
   "source": [
    "%%file c_program.cpp\n",
    "\n",
    "#include <iostream>\n",
    "#include <vector>\n",
    "#include <stack>\n",
    "#include <string>\n",
    "#include <cctype>\n",
    "#include <stdexcept>\n",
    "\n",
    "using namespace std;\n",
    "\n",
    "int calculate(const string& s) {\n",
    "    stack<int> stk;  // Stack to store intermediate results and operators\n",
    "    int result = 0;  // Running result\n",
    "    int number = 0;  // Current number being processed\n",
    "    int sign = 1;    // Current sign (+1 or -1)\n",
    "\n",
    "    for (size_t i = 0; i < s.length(); ++i) {\n",
    "        char c = s[i];\n",
    "        if (isdigit(c)) {\n",
    "            // Accumulate digit to form the current number\n",
    "            number = number * 10 + (c - '0');\n",
    "        } else if (c == '+') {\n",
    "            // Apply the previous number with its sign\n",
    "            result += sign * number;\n",
    "            number = 0;  // Reset for the next number\n",
    "            sign = 1;    // Set sign for the next number\n",
    "        } else if (c == '-') {\n",
    "            // Apply the previous number with its sign\n",
    "            result += sign * number;\n",
    "            number = 0;  // Reset for the next number\n",
    "            sign = -1;   // Set sign for the next number\n",
    "        } else if (c == '(') {\n",
    "            // Push the current result and sign onto the stack for later use\n",
    "            stk.push(result);\n",
    "            stk.push(sign);\n",
    "            result = 0;  // Reset result for the sub-expression\n",
    "            sign = 1;    // Reset sign for the sub-expression\n",
    "        } else if (c == ')') {\n",
    "            // Complete the current sub-expression\n",
    "            result += sign * number;\n",
    "            number = 0;  // Reset number for further processing\n",
    "            // Pop the sign and result from the stack\n",
    "            result *= stk.top(); stk.pop();  // Multiply by the previous sign\n",
    "            result += stk.top(); stk.pop();  // Add to the previous result\n",
    "        }\n",
    "        // Ignore spaces\n",
    "    }\n",
    "\n",
    "    // Add the last processed number to the result\n",
    "    result += sign * number;\n",
    "\n",
    "    return result;\n",
    "}\n",
    "\n",
    "int main() {\n",
    "    // Test cases\n",
    "    vector<string> testCases = {\n",
    "        \"1 + 1\",                              // Simple addition\n",
    "        \" 2-1 + 2 \",                          // Spaces around numbers\n",
    "        \"(1+(4+5+2)-3)+(6+8)\",                // Nested parentheses\n",
    "        \"   1+    2 - 3    \",                 // Excessive spaces\n",
    "        \"(((1 + (2 + 3)) + 4) - 5)\",          // Deeply nested parentheses\n",
    "        \"-1 + 2\",                             // Unary negation\n",
    "        \"-(3 + (4 - 5))\",                     // Negative expression\n",
    "        \"100000 + 200000 - 300000\",           // Large numbers\n",
    "        \"1 - (2 + 3) + 4\",                    // Mixed operations\n",
    "        \"(10 - (2 + 3)) + (4 - 6)\",           // Complex combination\n",
    "        \"1\",                                  // Single number\n",
    "        \"    \",                               // Empty string\n",
    "        \"0 + 0 - 0\",                          // Zeros\n",
    "        \"((0))\",                              // Nested zeros\n",
    "        \"-(-(-3 + 2))\",                       // Multiple unary negations\n",
    "        \"(1 - (2 - (3 - (4 + (5 - 6)))))\",    // Multiple nested operations\n",
    "        \"-(12345 + (6789 - (9876 + (-54321))))\" // Combination of all tricky cases\n",
    "    };\n",
    "\n",
    "    for (const string& testCase : testCases) {\n",
    "        try {\n",
    "            cout << \"Input: \\\"\" << testCase << \"\\\"\\n\";\n",
    "            cout << \"Output: \" << calculate(testCase) << \"\\n\\n\";\n",
    "        } catch (const exception& e) {\n",
    "            cout << \"Input: \\\"\" << testCase << \"\\\"\\n\";\n",
    "            cout << \"Error: \" << e.what() << \"\\n\\n\";\n",
    "        }\n",
    "    }\n",
    "\n",
    "    return 0;\n",
    "}\n"
   ]
  }
 ],
 "metadata": {
  "kernelspec": {
   "display_name": "qiskitenv",
   "language": "python",
   "name": "python3"
  },
  "language_info": {
   "codemirror_mode": {
    "name": "ipython",
    "version": 3
   },
   "file_extension": ".py",
   "mimetype": "text/x-python",
   "name": "python",
   "nbconvert_exporter": "python",
   "pygments_lexer": "ipython3",
   "version": "3.11.10"
  }
 },
 "nbformat": 4,
 "nbformat_minor": 2
}
